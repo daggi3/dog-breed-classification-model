{
 "cells": [
  {
   "cell_type": "code",
   "execution_count": 3,
   "id": "65286a66",
   "metadata": {},
   "outputs": [
    {
     "name": "stdout",
     "output_type": "stream",
     "text": [
      "1/1 [==============================] - 0s 256ms/step\n"
     ]
    },
    {
     "data": {
      "text/plain": [
       "('n02116738-African_hunting_dog', 99.87)"
      ]
     },
     "execution_count": 3,
     "metadata": {},
     "output_type": "execute_result"
    }
   ],
   "source": [
    "from tensorflow.keras.models import load_model\n",
    "import numpy as np\n",
    "import tensorflow as tf\n",
    "import matplotlib.pyplot as plt\n",
    "from PIL import Image\n",
    "\n",
    "model = load_model(\"C:/Users/HP/Desktop/ggg/mymodel.h5\")\n",
    "\n",
    "IMAGE_SIZE = 256\n",
    "\n",
    "### Write a function for inference\n",
    "\n",
    "def predict(model, img):\n",
    "\n",
    "    img = img.resize((IMAGE_SIZE, IMAGE_SIZE))\n",
    "    img_array = tf.keras.preprocessing.image.img_to_array(img)\n",
    "    img_array = tf.expand_dims(img_array, 0)\n",
    "\n",
    "    predictions = model.predict(img_array)\n",
    "\n",
    "    class_names = ['n02093647-Bedlington_terrier', 'n02088364-beagle', 'n02116738-African_hunting_dog'] # Replace with your actual class names\n",
    "    predicted_class = class_names[np.argmax(predictions[0])]\n",
    "    confidence = round(100 * np.max(predictions[0]), 2)\n",
    "    return predicted_class, confidence\n",
    "\n",
    "### function  to read file from directory\n",
    "def steve(image_pr):\n",
    "    img = Image.open(image_pr)\n",
    "    predicted_class, confidence = predict(model, img)\n",
    "    return (predicted_class, confidence)\n",
    "steve(\"c:/users/HP/Desktop/n02116738_204.jpg\")"
   ]
  },
  {
   "cell_type": "code",
   "execution_count": null,
   "id": "4ebf329b-ca54-4aa4-abb1-38188b7c8a20",
   "metadata": {},
   "outputs": [],
   "source": []
  },
  {
   "cell_type": "code",
   "execution_count": null,
   "id": "9775fdb2-cad4-4004-8998-ac20d58b7760",
   "metadata": {},
   "outputs": [],
   "source": []
  },
  {
   "cell_type": "code",
   "execution_count": null,
   "id": "04b4f167-9308-46b4-98ae-1d68eca27765",
   "metadata": {},
   "outputs": [],
   "source": []
  }
 ],
 "metadata": {
  "kernelspec": {
   "display_name": "Python 3 (ipykernel)",
   "language": "python",
   "name": "python3"
  },
  "language_info": {
   "codemirror_mode": {
    "name": "ipython",
    "version": 3
   },
   "file_extension": ".py",
   "mimetype": "text/x-python",
   "name": "python",
   "nbconvert_exporter": "python",
   "pygments_lexer": "ipython3",
   "version": "3.11.7"
  }
 },
 "nbformat": 4,
 "nbformat_minor": 5
}
