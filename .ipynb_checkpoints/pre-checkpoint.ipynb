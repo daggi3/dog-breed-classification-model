{
 "cells": [
  {
   "cell_type": "code",
   "execution_count": 12,
   "id": "391ed0c6-a409-4102-9fa5-ce5bdbdc7cae",
   "metadata": {},
   "outputs": [],
   "source": [
    "import tensorflow as tf\n",
    "from tensorflow.keras.preprocessing import image\n",
    "import numpy as np\n",
    "from PIL import Image\n",
    "\n",
    "# Load the model\n",
    "model = tf.keras.models.load_model('mymodel.h5')\n",
    "\n",
    "# Path to your image\n",
    "IMAGE_SIZE=256\n",
    "# Load and preprocess the image\n",
    "\n",
    "\n",
    "# Make predictions\n",
    "def make_prediction(image_path):\n",
    "    img = Image.open(image_path)\n",
    "    img = img.resize((IMAGE_SIZE, IMAGE_SIZE))\n",
    "    img_array = tf.keras.preprocessing.image.img_to_array(img)\n",
    "    img_array = tf.expand_dims(img_array, 0)\n",
    "    predictions = model.predict(img_array)\n",
    "\n",
    "# Define the class names\n",
    "    class_names = ['n02093647-Bedlington_terrier', 'n02085620-Chihuahua', 'n02116738-African_hunting_dog']\n",
    "\n",
    "# Decode the predictions\n",
    "    predicted_class_index = np.argmax(predictions[0])\n",
    "    predicted_class_name = class_names[predicted_class_index]\n",
    "    \n",
    "    # Print the predicted class name and confidence\n",
    "    confidence = predictions[0][predicted_class_index]\n",
    "    print(\"Predicted class:\", predicted_class_name)\n",
    "    print(\"Confidence:\", confidence)\n"
   ]
  },
  {
   "cell_type": "code",
   "execution_count": 13,
   "id": "e1c1fff8-2fa9-4bc1-8937-35f9c551d51b",
   "metadata": {},
   "outputs": [
    {
     "name": "stdout",
     "output_type": "stream",
     "text": [
      "1/1 [==============================] - 0s 457ms/step\n",
      "Predicted class: n02085620-Chihuahua\n",
      "Confidence: 0.9923343\n"
     ]
    }
   ],
   "source": [
    "make_prediction(\"C:/Users/HP/Desktop/hua.jpg\")"
   ]
  },
  {
   "cell_type": "code",
   "execution_count": null,
   "id": "84c6e46b-dc01-464c-9572-66d7686f4dbf",
   "metadata": {},
   "outputs": [],
   "source": []
  },
  {
   "cell_type": "code",
   "execution_count": null,
   "id": "b35f01c7-c641-4c6b-86d7-2f8e7d54b7b0",
   "metadata": {},
   "outputs": [],
   "source": []
  }
 ],
 "metadata": {
  "kernelspec": {
   "display_name": "Python 3 (ipykernel)",
   "language": "python",
   "name": "python3"
  },
  "language_info": {
   "codemirror_mode": {
    "name": "ipython",
    "version": 3
   },
   "file_extension": ".py",
   "mimetype": "text/x-python",
   "name": "python",
   "nbconvert_exporter": "python",
   "pygments_lexer": "ipython3",
   "version": "3.11.7"
  }
 },
 "nbformat": 4,
 "nbformat_minor": 5
}
