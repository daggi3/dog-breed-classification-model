{
 "cells": [
  {
   "cell_type": "code",
   "execution_count": 6,
   "id": "65286a66",
   "metadata": {},
   "outputs": [
    {
     "name": "stdout",
     "output_type": "stream",
     "text": [
      "WARNING:tensorflow:6 out of the last 6 calls to <function Model.make_predict_function.<locals>.predict_function at 0x0000025A830C77E0> triggered tf.function retracing. Tracing is expensive and the excessive number of tracings could be due to (1) creating @tf.function repeatedly in a loop, (2) passing tensors with different shapes, (3) passing Python objects instead of tensors. For (1), please define your @tf.function outside of the loop. For (2), @tf.function has reduce_retracing=True option that can avoid unnecessary retracing. For (3), please refer to https://www.tensorflow.org/guide/function#controlling_retracing and https://www.tensorflow.org/api_docs/python/tf/function for  more details.\n",
      "1/1 [==============================] - 0s 194ms/step\n",
      "Predicted Class: n02085620-Chihuahua, Confidence: 0.9976207613945007\n"
     ]
    }
   ],
   "source": [
    "from tensorflow.keras.models import load_model\n",
    "import numpy as np\n",
    "import tensorflow as tf\n",
    "from PIL import Image\n",
    "\n",
    "# Load the model\n",
    "model_path = \"C:/Users/HP/Desktop/ggg/mymodel.h5\"\n",
    "model = load_model(model_path)\n",
    "\n",
    "# Define the class names in the correct order\n",
    "class_names = ['n02085620-Chihuahua', 'n02093647-Bedlington_terrier', 'n02116738-African_hunting_dog']\n",
    "\n",
    "# Define a function for prediction\n",
    "def predict_image(image_path):\n",
    "    try:\n",
    "        # Load and preprocess the image\n",
    "        img = Image.open(image_path)\n",
    "        img = img.resize((256, 256))  # Resize to match model input size\n",
    "        img_array = tf.keras.preprocessing.image.img_to_array(img)\n",
    "        img_array = tf.expand_dims(img_array, 0)  # Create batch dimension\n",
    "\n",
    "        # Predict the class probabilities\n",
    "        predictions = model.predict(img_array)\n",
    "\n",
    "        # Get the predicted class index and confidence\n",
    "        predicted_class_index = np.argmax(predictions[0])\n",
    "        confidence = predictions[0][predicted_class_index]\n",
    "\n",
    "        # Get the predicted class name\n",
    "        predicted_class = class_names[predicted_class_index]\n",
    "\n",
    "        return predicted_class, confidence\n",
    "\n",
    "    except Exception as e:\n",
    "        print(f\"Error predicting image: {e}\")\n",
    "        return None, None\n",
    "\n",
    "# Test the function with an image\n",
    "image_path = \"C:/Users/HP/Desktop/n02085620_199.jpg\"  # Replace with the actual path to your image\n",
    "predicted_class, confidence = predict_image(image_path)\n",
    "if predicted_class is not None:\n",
    "    print(f\"Predicted Class: {predicted_class}, Confidence: {confidence}\")\n",
    "\n"
   ]
  },
  {
   "cell_type": "code",
   "execution_count": null,
   "id": "2068d91c-2117-424c-9dfa-32ec0665e5b6",
   "metadata": {},
   "outputs": [],
   "source": []
  },
  {
   "cell_type": "code",
   "execution_count": null,
   "id": "d63ae269-8c34-4a99-9b93-d467e3ec4253",
   "metadata": {},
   "outputs": [],
   "source": []
  }
 ],
 "metadata": {
  "kernelspec": {
   "display_name": "Python 3 (ipykernel)",
   "language": "python",
   "name": "python3"
  },
  "language_info": {
   "codemirror_mode": {
    "name": "ipython",
    "version": 3
   },
   "file_extension": ".py",
   "mimetype": "text/x-python",
   "name": "python",
   "nbconvert_exporter": "python",
   "pygments_lexer": "ipython3",
   "version": "3.11.7"
  }
 },
 "nbformat": 4,
 "nbformat_minor": 5
}
